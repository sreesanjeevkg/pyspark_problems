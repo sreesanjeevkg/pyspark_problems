{
 "cells": [
  {
   "cell_type": "code",
   "execution_count": 0,
   "metadata": {
    "application/vnd.databricks.v1+cell": {
     "cellMetadata": {
      "byteLimit": 2048000,
      "rowLimit": 10000
     },
     "inputWidgets": {},
     "nuid": "31105f41-20d5-49dc-8328-d9c43e9c10df",
     "showTitle": false,
     "title": ""
    }
   },
   "outputs": [],
   "source": [
    "import pyspark.sql.functions as F\n",
    "import pyspark.sql.types as T\n",
    "from pyspark.sql import SparkSession, Window"
   ]
  },
  {
   "cell_type": "code",
   "execution_count": 0,
   "metadata": {
    "application/vnd.databricks.v1+cell": {
     "cellMetadata": {
      "byteLimit": 2048000,
      "rowLimit": 10000
     },
     "inputWidgets": {},
     "nuid": "d142ad53-ca88-401e-a745-56be15e24fc8",
     "showTitle": false,
     "title": ""
    }
   },
   "outputs": [],
   "source": [
    "spark = SparkSession.builder.appName(\"someProblem\").getOrCreate()\n",
    "\n",
    "data = [\n",
    " (1, \"2024-08-15\"),\n",
    " (1, \"2024-03-10\"),\n",
    " (1, \"2023-05-05\"),\n",
    " (2, \"2025-02-24\"),\n",
    " (2, \"2024-07-15\"),\n",
    " (2, \"2024-03-15\")\n",
    "]\n",
    "\n",
    "# Define schema\n",
    "schema = T.StructType([\n",
    "    T.StructField(\"id\", T.IntegerType(), True),\n",
    "    T.StructField(\"plan_date\", T.StringType(), True)\n",
    "])\n",
    "\n",
    "# Create DataFrame\n",
    "df = spark.createDataFrame(data, schema=schema)"
   ]
  },
  {
   "cell_type": "code",
   "execution_count": 0,
   "metadata": {
    "application/vnd.databricks.v1+cell": {
     "cellMetadata": {
      "byteLimit": 2048000,
      "rowLimit": 10000
     },
     "inputWidgets": {},
     "nuid": "6b9fde8e-dd47-490b-86f5-508223aa4f0c",
     "showTitle": false,
     "title": ""
    }
   },
   "outputs": [
    {
     "output_type": "stream",
     "name": "stdout",
     "output_type": "stream",
     "text": [
      "+---+----------+------------+----------------------+---------------+\n| id| plan_date|is_six_month|is_current_fiscal_year|is_current_year|\n+---+----------+------------+----------------------+---------------+\n|  1|2024-08-15|         YES|                   YES|            YES|\n|  1|2024-03-10|         YES|                    NO|            YES|\n|  1|2023-05-05|          NO|                    NO|             NO|\n|  2|2025-02-24|         YES|                   YES|             NO|\n|  2|2024-07-15|          NO|                   YES|            YES|\n|  2|2024-03-15|         YES|                    NO|            YES|\n+---+----------+------------+----------------------+---------------+\n\n"
     ]
    }
   ],
   "source": [
    "# Create a window partitioned by 'id' and ordered by 'plan_date'\n",
    "six_month_window = Window.partitionBy(\"id\").orderBy(F.desc(\"plan_date\"))\n",
    "\n",
    "# Calculate the difference between the current and previous 'plan_date' in days\n",
    "df = df.withColumn(\"month_lag\", F.lag(\"plan_date\").over(six_month_window)).\\\n",
    "withColumn(\n",
    "    \"is_six_month\", \n",
    "    F.when(\n",
    "        (F.months_between(F.col(\"month_lag\"), F.col(\"plan_date\")) < 6) | (F.col(\"month_lag\").isNull()), \n",
    "        F.lit(\"YES\")\n",
    "    ).otherwise(F.lit(\"NO\"))\n",
    ").\\\n",
    "    withColumn(\"is_current_fiscal_year\", F.when(F.col(\"plan_date\").between(\"2024-04-01\", \n",
    "                                                                   \"2025-03-31\"), \"YES\").otherwise(\"NO\")).\\\n",
    "    withColumn(\"is_current_year\", F.when(F.col(\"plan_date\").between(\"2024-01-01\", \n",
    "                                                                   \"2024-12-31\"), \"YES\").otherwise(\"NO\")).\\\n",
    "    drop(\"month_lag\").show()\n",
    "\n"
   ]
  },
  {
   "cell_type": "code",
   "execution_count": 0,
   "metadata": {
    "application/vnd.databricks.v1+cell": {
     "cellMetadata": {
      "byteLimit": 2048000,
      "rowLimit": 10000
     },
     "inputWidgets": {},
     "nuid": "02dafaee-bbf4-449b-afec-3d5c479b882d",
     "showTitle": false,
     "title": ""
    }
   },
   "outputs": [],
   "source": []
  }
 ],
 "metadata": {
  "application/vnd.databricks.v1+notebook": {
   "dashboards": [],
   "environmentMetadata": null,
   "language": "python",
   "notebookMetadata": {
    "pythonIndentUnit": 4
   },
   "notebookName": "Linkedin - Mr. K Talks Tech - Saved",
   "widgets": {}
  }
 },
 "nbformat": 4,
 "nbformat_minor": 0
}
